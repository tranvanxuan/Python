{
 "cells": [
  {
   "cell_type": "code",
   "execution_count": 13,
   "metadata": {},
   "outputs": [],
   "source": [
    "import spacy"
   ]
  },
  {
   "cell_type": "code",
   "execution_count": 15,
   "metadata": {},
   "outputs": [],
   "source": [
    "nlp=spacy.load(\"en_core_web_sm\")"
   ]
  },
  {
   "cell_type": "code",
   "execution_count": 21,
   "metadata": {},
   "outputs": [],
   "source": [
    "#process who doucument\n",
    "text = \"Google was initially funded by an August 1998 investment of $100,000 from Andy Bechtolsheim,[16] co-founder of Sun Microsystems, a few weeks prior to September 7, 1998, the day Google was officially incorporated.[38][39] Google received money from three other angel investors in 1998: Amazon.com founder Jeff Bezos, Stanford University computer science professor David Cheriton, and entrepreneur Ram Shriram.[40] Between these initial investors, friends, and family Google raised around $1,000,000, which is what allowed them to open up their original shop in Menlo Park, California.[41]\""
   ]
  },
  {
   "cell_type": "code",
   "execution_count": 22,
   "metadata": {},
   "outputs": [
    {
     "data": {
      "text/plain": [
       "'Google was initially funded by an August 1998 investment of $100,000 from Andy Bechtolsheim,[16] co-founder of Sun Microsystems, a few weeks prior to September 7, 1998, the day Google was officially incorporated.[38][39] Google received money from three other angel investors in 1998: Amazon.com founder Jeff Bezos, Stanford University computer science professor David Cheriton, and entrepreneur Ram Shriram.[40] Between these initial investors, friends, and family Google raised around $1,000,000, which is what allowed them to open up their original shop in Menlo Park, California.[41]'"
      ]
     },
     "execution_count": 22,
     "metadata": {},
     "output_type": "execute_result"
    }
   ],
   "source": [
    "text"
   ]
  },
  {
   "cell_type": "code",
   "execution_count": 23,
   "metadata": {},
   "outputs": [],
   "source": [
    "doc=nlp(text)"
   ]
  },
  {
   "cell_type": "code",
   "execution_count": 29,
   "metadata": {},
   "outputs": [
    {
     "name": "stdout",
     "output_type": "stream",
     "text": [
      "Google\n",
      "was\n",
      "initially\n",
      "funded\n",
      "by\n",
      "an\n",
      "August\n",
      "1998\n",
      "investment\n",
      "of\n",
      "$\n",
      "100,000\n",
      "from\n",
      "Andy\n",
      "Bechtolsheim,[16\n",
      "]\n",
      "co\n",
      "-\n",
      "founder\n",
      "of\n",
      "Sun\n",
      "Microsystems\n",
      ",\n",
      "a\n",
      "few\n",
      "weeks\n",
      "prior\n",
      "to\n",
      "September\n",
      "7\n",
      ",\n",
      "1998\n",
      ",\n",
      "the\n",
      "day\n",
      "Google\n",
      "was\n",
      "officially\n",
      "incorporated.[38][39\n",
      "]\n",
      "Google\n",
      "received\n",
      "money\n",
      "from\n",
      "three\n",
      "other\n",
      "angel\n",
      "investors\n",
      "in\n",
      "1998\n",
      ":\n",
      "Amazon.com\n",
      "founder\n",
      "Jeff\n",
      "Bezos\n",
      ",\n",
      "Stanford\n",
      "University\n",
      "computer\n",
      "science\n",
      "professor\n",
      "David\n",
      "Cheriton\n",
      ",\n",
      "and\n",
      "entrepreneur\n",
      "Ram\n",
      "Shriram.[40\n",
      "]\n",
      "Between\n",
      "these\n",
      "initial\n",
      "investors\n",
      ",\n",
      "friends\n",
      ",\n",
      "and\n",
      "family\n",
      "Google\n",
      "raised\n",
      "around\n",
      "$\n",
      "1,000,000\n",
      ",\n",
      "which\n",
      "is\n",
      "what\n",
      "allowed\n",
      "them\n",
      "to\n",
      "open\n",
      "up\n",
      "their\n",
      "original\n",
      "shop\n",
      "in\n",
      "Menlo\n",
      "Park\n",
      ",\n",
      "California.[41\n",
      "]\n"
     ]
    }
   ],
   "source": [
    "for tocken in doc:\n",
    "    print(tocken)"
   ]
  },
  {
   "cell_type": "code",
   "execution_count": 30,
   "metadata": {},
   "outputs": [
    {
     "name": "stdout",
     "output_type": "stream",
     "text": [
      "funded\n",
      "received\n",
      "raised\n",
      "allowed\n",
      "open\n"
     ]
    }
   ],
   "source": [
    "for tocken in doc:\n",
    "    if tocken.pos_==\"VERB\":\n",
    "        print(tocken)"
   ]
  },
  {
   "cell_type": "code",
   "execution_count": 31,
   "metadata": {},
   "outputs": [
    {
     "name": "stdout",
     "output_type": "stream",
     "text": [
      "August 1998 391\n",
      "100,000 394\n",
      "Andy Bechtolsheim,[16 380\n",
      "Sun Microsystems 383\n",
      "a few weeks 391\n",
      "September 7, 1998 391\n",
      "three 397\n",
      "1998 391\n",
      "Amazon.com 383\n",
      "Jeff Bezos 380\n",
      "Stanford University 383\n",
      "David Cheriton 380\n",
      "Ram Shriram.[40 380\n",
      "Google 383\n",
      "around $1,000,000 394\n",
      "Menlo Park 384\n"
     ]
    }
   ],
   "source": [
    "#named entity recognition\n",
    "# danh tu rieng\n",
    "for entity in doc.ents:\n",
    "    print(entity.text, entity.label)\n",
    "    "
   ]
  },
  {
   "cell_type": "code",
   "execution_count": null,
   "metadata": {},
   "outputs": [],
   "source": []
  }
 ],
 "metadata": {
  "interpreter": {
   "hash": "bfb4883d108fc92ac768439090a2e92bb9a1f760a54beeecfd6762b5dcd70fe3"
  },
  "kernelspec": {
   "display_name": "Python 3.10.2 64-bit",
   "language": "python",
   "name": "python3"
  },
  "language_info": {
   "codemirror_mode": {
    "name": "ipython",
    "version": 3
   },
   "file_extension": ".py",
   "mimetype": "text/x-python",
   "name": "python",
   "nbconvert_exporter": "python",
   "pygments_lexer": "ipython3",
   "version": "3.10.2"
  },
  "orig_nbformat": 4
 },
 "nbformat": 4,
 "nbformat_minor": 2
}
